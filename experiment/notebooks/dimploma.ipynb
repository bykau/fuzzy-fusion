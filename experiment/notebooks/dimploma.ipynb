{
 "cells": [
  {
   "cell_type": "markdown",
   "metadata": {},
   "source": [
    "<h1>Algorithms tests</h1>"
   ]
  },
  {
   "cell_type": "code",
   "execution_count": 1,
   "metadata": {
    "collapsed": true
   },
   "outputs": [],
   "source": [
    "import sys\n",
    "import os\n",
    "import random\n",
    "import time\n",
    "import math\n",
    "import pandas as pd\n",
    "import numpy as np\n",
    "import matplotlib.pyplot as plt\n",
    "from matplotlib import rc"
   ]
  },
  {
   "cell_type": "code",
   "execution_count": 2,
   "metadata": {
    "collapsed": false
   },
   "outputs": [
    {
     "name": "stdout",
     "output_type": "stream",
     "text": [
      "Python version 2.7.10 (default, Oct 23 2015, 18:05:06) \n",
      "[GCC 4.2.1 Compatible Apple LLVM 7.0.0 (clang-700.0.59.5)]\n",
      "Pandas version 0.17.1\n"
     ]
    }
   ],
   "source": [
    "print 'Python version ' + sys.version\n",
    "print 'Pandas version ' + pd.__version__"
   ]
  },
  {
   "cell_type": "code",
   "execution_count": 3,
   "metadata": {
    "collapsed": false
   },
   "outputs": [],
   "source": [
    "s_number = 10\n",
    "obj_number = 1000"
   ]
  },
  {
   "cell_type": "markdown",
   "metadata": {},
   "source": [
    "Distance"
   ]
  },
  {
   "cell_type": "code",
   "execution_count": 4,
   "metadata": {
    "collapsed": false
   },
   "outputs": [],
   "source": [
    "cov_val_list = [0.7, 0.8, 0.9, 1.0]\n",
    "pi_val_list = [.7, .75, .8, .85, .9, .95, 1.]\n",
    "\n",
    "em, em_std = [], []\n",
    "g, g_std = [], []\n",
    "mv, mv_std = [], []\n",
    "\n",
    "output_data = pd.read_csv('../outputs/dist_v5_10_1000.csv')\n",
    "for pi in pi_val_list:\n",
    "    data = output_data[(output_data.acc == pi) & (output_data['cov'] == cov_val_list[3])]\n",
    "    mv.append(np.mean(data.mv))\n",
    "    mv_std.append(np.std(data.mv))\n",
    "    em.append(np.mean(data.em))\n",
    "    em_std.append(np.std(data.em))\n",
    "    g.append(np.mean(data.g))\n",
    "    g_std.append(np.std(data.g))"
   ]
  },
  {
   "cell_type": "code",
   "execution_count": 5,
   "metadata": {
    "collapsed": false
   },
   "outputs": [],
   "source": [
    "font = {'family': 'Verdana',\n",
    "        'weight': 'normal'}\n",
    "rc('font', **font)\n",
    "\n",
    "plot_margin = 0.03\n",
    "x = pi_val_list\n",
    "f, axarr = plt.subplots()\n",
    "f.set_size_inches(14, 5)\n",
    "axarr.plot(x, em, 'r', label='em')\n",
    "axarr.errorbar(x, em, yerr=em_std, fmt='r')\n",
    "\n",
    "axarr.plot(x, mv, 'c', label='mv')\n",
    "axarr.errorbar(x, mv, yerr=mv_std, fmt='c')\n",
    "\n",
    "axarr.plot(x, g, 'b--', label='gibbs')\n",
    "axarr.errorbar(x, g, yerr=g_std, fmt='b--')\n",
    "\n",
    "axarr.set_xlabel(u'A, у. е.', fontsize=14)\n",
    "axarr.set_ylabel(u'D, у. е.', fontsize=14)\n",
    "axarr.legend(loc='lower center', fancybox=True, shadow=True, ncol=3)\n",
    "# axarr.set_title(u'Расстояние до истины ({} объектов, {} источников)'.format(obj_number, s_number), fontsize=15, fontweight='bold')\n",
    "axarr.set_title('Cov = 1.')\n",
    "\n",
    "x0, x1, y0, y1 = plt.axis()\n",
    "plt.axis((x0 - plot_margin,\n",
    "          x1 + plot_margin,\n",
    "          y0 - plot_margin,\n",
    "          y1 + plot_margin))\n",
    "\n",
    "plt.show()"
   ]
  },
  {
   "cell_type": "markdown",
   "metadata": {
    "collapsed": true
   },
   "source": [
    "Accuracy"
   ]
  },
  {
   "cell_type": "code",
   "execution_count": 4,
   "metadata": {
    "collapsed": false
   },
   "outputs": [],
   "source": [
    "cov_val_list = [0.7, 0.8, 0.9, 1.0]\n",
    "pi_val_list = [.7, .75, .8, .85, .9, .95, 1.]\n",
    "\n",
    "em, em_std = [], []\n",
    "g, g_std = [], []\n",
    "mv, mv_std = [], []\n",
    "\n",
    "output_data = pd.read_csv('../outputs/acc_v5_10_1000.csv')\n",
    "for pi in pi_val_list:\n",
    "    data = output_data[(output_data.acc == pi) & (output_data['cov'] == cov_val_list[3])]\n",
    "    em.append(np.mean(data.em_ac_err))\n",
    "    em_std.append(np.std(data.em_ac_err))\n",
    "    g.append(np.mean(data.g_ac_err))\n",
    "    g_std.append(np.std(data.g_ac_err))"
   ]
  },
  {
   "cell_type": "code",
   "execution_count": 5,
   "metadata": {
    "collapsed": true
   },
   "outputs": [],
   "source": [
    "font = {'family': 'Verdana',\n",
    "        'weight': 'normal'}\n",
    "rc('font', **font)\n",
    "\n",
    "plot_margin = 0.03\n",
    "x = pi_val_list\n",
    "f, axarr = plt.subplots()\n",
    "f.set_size_inches(14, 5)\n",
    "axarr.plot(x, em, 'r', label='em')\n",
    "axarr.errorbar(x, em, yerr=em_std, fmt='r')\n",
    "\n",
    "axarr.plot(x, g, 'b', label='gibbs')\n",
    "axarr.errorbar(x, g, yerr=g_std, fmt='b')\n",
    "\n",
    "axarr.set_xlabel(u'A, у. е.', fontsize=14)\n",
    "axarr.set_ylabel(u'Err, у. е.', fontsize=14)\n",
    "axarr.legend(loc='lower center', fancybox=True, shadow=True, ncol=3)\n",
    "# axarr.set_title(u'Расстояние до истины ({} объектов, {} источников)'.format(obj_number, s_number), fontsize=15, fontweight='bold')\n",
    "axarr.set_title('Cov = 1.')\n",
    "\n",
    "x0, x1, y0, y1 = plt.axis()\n",
    "plt.axis((x0 - plot_margin,\n",
    "          x1 + plot_margin,\n",
    "          y0 - plot_margin,\n",
    "          y1 + plot_margin))\n",
    "\n",
    "plt.show()"
   ]
  },
  {
   "cell_type": "markdown",
   "metadata": {
    "collapsed": true
   },
   "source": [
    "Efficiency"
   ]
  },
  {
   "cell_type": "code",
   "execution_count": 2,
   "metadata": {
    "collapsed": false
   },
   "outputs": [],
   "source": [
    "output_data = pd.read_csv('../outputs/efficiency.csv')\n",
    "s_number = output_data.s.drop_duplicates().values[0]\n",
    "mv = output_data.mv.values\n",
    "em = output_data.em.values\n",
    "g = output_data.g.values\n",
    "x = output_data.obj_numb"
   ]
  },
  {
   "cell_type": "code",
   "execution_count": 4,
   "metadata": {
    "collapsed": false
   },
   "outputs": [],
   "source": [
    "font = {'family': 'Verdana',\n",
    "        'weight': 'normal'}\n",
    "rc('font', **font)\n",
    "\n",
    "plot_margin = 0.03\n",
    "f, axarr = plt.subplots()\n",
    "f.set_size_inches(14, 5)\n",
    "axarr.plot(x, mv, 'c', label='mv', marker='*')\n",
    "axarr.plot(x, em, 'r', label='em', marker='o')\n",
    "axarr.plot(x, g, 'b', label='gibbs', marker='s')\n",
    "axarr.set_xlabel(u'Число объектов, ед.', fontsize=14)\n",
    "axarr.set_ylabel(u'T, сек.', fontsize=14)\n",
    "axarr.legend(loc='upper center', fancybox=True, shadow=True, ncol=3)\n",
    "# axarr.set_title('')\n",
    "\n",
    "x0, x1, y0, y1 = plt.axis()\n",
    "plt.axis((x0 - plot_margin,\n",
    "          x1 + plot_margin,\n",
    "          y0 - plot_margin,\n",
    "          y1 + plot_margin))\n",
    "\n",
    "plt.show()"
   ]
  },
  {
   "cell_type": "code",
   "execution_count": null,
   "metadata": {
    "collapsed": true
   },
   "outputs": [],
   "source": []
  }
 ],
 "metadata": {
  "kernelspec": {
   "display_name": "Python 2",
   "language": "python",
   "name": "python2"
  },
  "language_info": {
   "codemirror_mode": {
    "name": "ipython",
    "version": 2
   },
   "file_extension": ".py",
   "mimetype": "text/x-python",
   "name": "python",
   "nbconvert_exporter": "python",
   "pygments_lexer": "ipython2",
   "version": "2.7.10"
  }
 },
 "nbformat": 4,
 "nbformat_minor": 0
}
