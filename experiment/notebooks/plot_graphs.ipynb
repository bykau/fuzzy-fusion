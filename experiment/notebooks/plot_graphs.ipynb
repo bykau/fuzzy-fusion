{
 "cells": [
  {
   "cell_type": "markdown",
   "metadata": {},
   "source": [
    "<h1>Algorithms tests</h1>"
   ]
  },
  {
   "cell_type": "code",
   "execution_count": null,
   "metadata": {
    "collapsed": true
   },
   "outputs": [],
   "source": [
    "import sys\n",
    "import os\n",
    "import random\n",
    "import time\n",
    "import math\n",
    "import pandas as pd\n",
    "import numpy as np\n",
    "import matplotlib.pyplot as plt"
   ]
  },
  {
   "cell_type": "code",
   "execution_count": null,
   "metadata": {
    "collapsed": false
   },
   "outputs": [],
   "source": [
    "print 'Python version ' + sys.version\n",
    "print 'Pandas version ' + pd.__version__"
   ]
  },
  {
   "cell_type": "code",
   "execution_count": null,
   "metadata": {
    "collapsed": false
   },
   "outputs": [],
   "source": [
    "s_number = 10\n",
    "obj_number = 100"
   ]
  },
  {
   "cell_type": "code",
   "execution_count": null,
   "metadata": {
    "collapsed": false
   },
   "outputs": [],
   "source": [
    "# x = [0.0, 0.1, 0.2, 0.3, 0.4, 0.5, 0.6, 0.7, 0.8, 0.9, 1.0]\n",
    "# g_list = [1., 0.9, 0.8, 0.7, 0.6, 0.5, 0.4, 0.3, 0.2, 0.1, 0.0]\n",
    "x = [0.0, 0.05, 0.1, 0.15, 0.2, 0.25, 0.3]\n",
    "pi_list = [1., 0.95, 0.9, 0.85, 0.8, 0.75, 0.7]\n",
    "em, em_std = [], []\n",
    "em_f, em_f_std = [], []\n",
    "g, g_std = [], []\n",
    "gf, gf_std = [], []\n",
    "mv, mv_std = [], []\n",
    "\n",
    "# columns_d = ['z', 'em_d', 'g_d', 'gf_d']\n",
    "# columns_it = ['g_true', 'em_it', 'g_it', 'gf_it']\n",
    "output_data = pd.read_csv('../outputs/dist_v5_07p_10_100.csv')\n",
    "for pi in pi_list:\n",
    "    data = output_data[output_data.pi == pi]\n",
    "    mv.append(np.mean(data.mv))\n",
    "    mv_std.append(np.std(data.mv))\n",
    "    em.append(np.mean(data.em))\n",
    "    em_std.append(np.std(data.em))\n",
    "    gf.append(np.mean(data.gf))\n",
    "    gf_std.append(np.std(data.gf))\n",
    "    g.append(np.mean(data.g))\n",
    "    g_std.append(np.std(data.g))\n",
    "#     em_f.append(np.mean(data.em_f))\n",
    "#     em_f_std.append(np.std(data.em_f))"
   ]
  },
  {
   "cell_type": "code",
   "execution_count": null,
   "metadata": {
    "collapsed": false
   },
   "outputs": [],
   "source": [
    "f, axarr = plt.subplots()\n",
    "f.set_size_inches(14, 5)\n",
    "axarr.plot(x, em, 'r--', label='em')\n",
    "axarr.errorbar(x, em, yerr=em_std, fmt='r--')\n",
    "axarr.plot(x, mv, 'c', label='mv')\n",
    "axarr.errorbar(x, mv, yerr=mv_std, fmt='c')\n",
    "# axarr.plot(x, em_f, 'r', label='em_f')\n",
    "# axarr.errorbar(x, em_f, yerr=em_f_std, fmt='r')\n",
    "axarr.plot(x, gf, 'b', label='fuzzy gibbs')\n",
    "axarr.errorbar(x, gf, yerr=gf_std, fmt='b')\n",
    "\n",
    "axarr.plot(x, g, 'b--', label='gibbs')\n",
    "axarr.errorbar(x, g, yerr=g_std, fmt='b--')\n",
    "\n",
    "axarr.set_xlabel('P confu', fontsize=14)\n",
    "axarr.set_ylabel('Dist', fontsize=14)\n",
    "axarr.legend(loc='lower center', fancybox=True, shadow=True, ncol=3)\n",
    "axarr.set_title('Distance to Ground Truth, {} objects, {} sources'.format(obj_number, s_number), fontsize=15, fontweight='bold')\n",
    "axarr.axis([-0.05, 0.35, 0.4, 1.05])\n",
    "plt.show()"
   ]
  },
  {
   "cell_type": "code",
   "execution_count": null,
   "metadata": {
    "collapsed": true
   },
   "outputs": [],
   "source": []
  },
  {
   "cell_type": "markdown",
   "metadata": {
    "collapsed": false
   },
   "source": [
    "Precision"
   ]
  },
  {
   "cell_type": "code",
   "execution_count": null,
   "metadata": {
    "collapsed": false
   },
   "outputs": [],
   "source": [
    "# x = [0.0, 0.1, 0.2, 0.3, 0.4, 0.5, 0.6, 0.7, 0.8, 0.9, 1.0]\n",
    "# g_list = [1., 0.9, 0.8, 0.7, 0.6, 0.5, 0.4, 0.3, 0.2, 0.1, 0.0]\n",
    "x = [0.0, 0.05, 0.1, 0.15, 0.2, 0.25, 0.3]\n",
    "pi_list = [1., 0.95, 0.9, 0.85, 0.8, 0.75, 0.7]\n",
    "em, em_std = [], []\n",
    "em_f, em_f_std = [], []\n",
    "g, g_std = [], []\n",
    "gf, gf_std = [], []\n",
    "mv, mv_std = [], []\n",
    "\n",
    "# columns_d = ['z', 'em_d', 'g_d', 'gf_d']\n",
    "# columns_it = ['g_true', 'em_it', 'g_it', 'gf_it']\n",
    "output_data = pd.read_csv('outputs/precision_10_100.csv')\n",
    "for pi in pi_list:\n",
    "    data = output_data[output_data.pi == pi]\n",
    "    mv.append(np.mean(data.mv_pr))\n",
    "    mv_std.append(np.std(data.mv_pr))\n",
    "    em.append(np.mean(data.em_pr))\n",
    "    em_std.append(np.std(data.em_pr))\n",
    "#     gf.append(np.mean(data.g_f))\n",
    "#     gf_std.append(np.std(data.g_f))\n",
    "    g.append(np.mean(data.g_pr))\n",
    "    g_std.append(np.std(data.g_pr))\n",
    "#     em_f.append(np.mean(data.em_f))\n",
    "#     em_f_std.append(np.std(data.em_f))"
   ]
  },
  {
   "cell_type": "code",
   "execution_count": null,
   "metadata": {
    "collapsed": true
   },
   "outputs": [],
   "source": [
    "f, axarr = plt.subplots()\n",
    "f.set_size_inches(14, 5)\n",
    "axarr.plot(x, em, 'r--', label='em')\n",
    "axarr.errorbar(x, em, yerr=em_std, fmt='r--')\n",
    "axarr.plot(x, mv, 'c', label='mv')\n",
    "axarr.errorbar(x, mv, yerr=mv_std, fmt='c')\n",
    "# axarr.plot(x, em_f, 'r', label='em_f')\n",
    "# axarr.errorbar(x, em_f, yerr=em_f_std, fmt='r')\n",
    "# axarr.plot(x, gf, 'b', label='gibbs fuzzy')\n",
    "# axarr.errorbar(x, gf, yerr=gf_std, fmt='b')\n",
    "\n",
    "axarr.plot(x, g, 'b--', label='gibbs')\n",
    "axarr.errorbar(x, g, yerr=g_std, fmt='b--')\n",
    "\n",
    "axarr.set_xlabel('P confu', fontsize=14)\n",
    "axarr.set_ylabel('Dist', fontsize=14)\n",
    "axarr.legend(loc='lower center', fancybox=True, shadow=True, ncol=3)\n",
    "axarr.set_title('Precision, {} objects, {} sources'.format(obj_number, s_number), fontsize=15, fontweight='bold')\n",
    "axarr.axis([-0.05, 0.35, 0.5, 1.])\n",
    "plt.show()"
   ]
  },
  {
   "cell_type": "code",
   "execution_count": null,
   "metadata": {
    "collapsed": true
   },
   "outputs": [],
   "source": []
  }
 ],
 "metadata": {
  "kernelspec": {
   "display_name": "Python 2",
   "language": "python",
   "name": "python2"
  },
  "language_info": {
   "codemirror_mode": {
    "name": "ipython",
    "version": 2
   },
   "file_extension": ".py",
   "mimetype": "text/x-python",
   "name": "python",
   "nbconvert_exporter": "python",
   "pygments_lexer": "ipython2",
   "version": "2.7.10"
  }
 },
 "nbformat": 4,
 "nbformat_minor": 0
}
